{
  "metadata": {
    "kernelspec": {
      "name": "python",
      "display_name": "Python (Pyodide)",
      "language": "python"
    },
    "language_info": {
      "codemirror_mode": {
        "name": "python",
        "version": 3
      },
      "file_extension": ".py",
      "mimetype": "text/x-python",
      "name": "python",
      "nbconvert_exporter": "python",
      "pygments_lexer": "ipython3",
      "version": "3.8"
    }
  },
  "nbformat_minor": 4,
  "nbformat": 4,
  "cells": [
    {
      "cell_type": "code",
      "source": "# this file is part of the Python Language Training developed by Marco Paolo Valerio Vezzoli\n# (c) 2024 - today",
      "metadata": {
        "trusted": true
      },
      "outputs": [],
      "execution_count": null
    },
    {
      "cell_type": "markdown",
      "source": "# Object Oriented Programming\nIn this section you are going to create an object representing a polynomial of a single variable **x** and test its functionalities\n## Object creator\nyour class should expect an input parameter which is a tuple of float representing the polynomial coefficient starting from grade 0 coefficient up to the highest non zero degree.\nEach element of the tuple will have the coefficient of the equivalent degree e.g.\n\n$1+2x+3x^2$\n\nwill be expressed by the following tuple\n\n``` python\n(1.0, 2.0, 3.0)\n```\n\nthe name of the python class will be **Poly** (classes in python have capital initial); remember that the creator of the object is a method called **__init__** which accepts a mandatory first argument, traditionally called **self** followed by as many arguments as needed e.g.\n\n``` python\nclass MyClass:\n    def __init__(self, x, y):\n        # example: assign x to an attribute\n        self.x = x\n```",
      "metadata": {}
    },
    {
      "cell_type": "code",
      "source": "## your code here",
      "metadata": {
        "trusted": true
      },
      "outputs": [],
      "execution_count": null
    },
    {
      "cell_type": "code",
      "source": "# here we test your object creation\nPoly((1,2,3))",
      "metadata": {
        "trusted": true
      },
      "outputs": [],
      "execution_count": null
    },
    {
      "cell_type": "markdown",
      "source": "# Object Method\na method operates on an object.\nAll object methods have a mandatory first argument traditionally called **self** which represent the object instance\n\n```python\nclass Car:\n    def __init__(self):\n        self.speed = 0\n    def get_speed(self):\n        return self.speed\n```\n\nin our case you will define a method which evaluates our polynomial in a given x value and return the polynomial value e.g.\nif\n\n$P[x] = 1+2x+3x^2$\n\nwe expect $P[10]=321$\n\nour method will be called **eval**",
      "metadata": {}
    },
    {
      "cell_type": "code",
      "source": "## your code here",
      "metadata": {
        "trusted": true
      },
      "outputs": [],
      "execution_count": null
    },
    {
      "cell_type": "code",
      "source": "p = Poly((1,2,3))\nif (p.eval(2) == 17) and (p.eval(10) == ",
      "metadata": {
        "trusted": true
      },
      "outputs": [],
      "execution_count": null
    }
  ]
}