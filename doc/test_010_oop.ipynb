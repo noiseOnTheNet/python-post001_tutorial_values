{
  "metadata": {
    "kernelspec": {
      "name": "python",
      "display_name": "Python (Pyodide)",
      "language": "python"
    },
    "language_info": {
      "codemirror_mode": {
        "name": "python",
        "version": 3
      },
      "file_extension": ".py",
      "mimetype": "text/x-python",
      "name": "python",
      "nbconvert_exporter": "python",
      "pygments_lexer": "ipython3",
      "version": "3.8"
    }
  },
  "nbformat_minor": 4,
  "nbformat": 4,
  "cells": [
    {
      "cell_type": "code",
      "source": "# this file is part of the Python Language Training developed by Marco Paolo Valerio Vezzoli\n# (c) 2024 - today",
      "metadata": {
        "trusted": true
      },
      "outputs": [],
      "execution_count": null
    },
    {
      "cell_type": "markdown",
      "source": "# Object Oriented Programming\nIn this section you are going to create an object representing a polynomial of a single variable **x** and test its functionalities\n## Object creator\nyour class should expect an input parameter which is a tuple of float representing the polynomial coefficient starting from grade 0 coefficient up to the highest non zero degree.\nEach element of the tuple will have the coefficient of the equivalent degree e.g.\n\n$1+2x+3x^2$\n\nwill be expressed by the following tuple\n\n``` python\n(1.0, 2.0, 3.0)\n```\n\nthe name of the python class will be **Poly** (classes in python have capital initial); remember that the creator of the object is a method called **__init__** which accepts a mandatory first argument, traditionally called **self** followed by as many arguments as needed e.g.\n\n``` python\nclass MyClass:\n    def __init__(self, x, y):\n        # example: assign x to an attribute\n        self.x = x\n```",
      "metadata": {}
    },
    {
      "cell_type": "code",
      "source": "## your code here",
      "metadata": {
        "trusted": true
      },
      "outputs": [],
      "execution_count": null
    },
    {
      "cell_type": "code",
      "source": "# here we test your object creation\nPoly((1,2,3))",
      "metadata": {
        "trusted": true
      },
      "outputs": [],
      "execution_count": null
    },
    {
      "cell_type": "markdown",
      "source": "## Object Method\na method operates on an object.\nAll object methods have a mandatory first argument traditionally called **self** which represent the object instance\n\n```python\nclass Car:\n    def __init__(self):\n        self.speed = 0\n    def get_speed(self):\n        return self.speed\n```\n\nin our case you will define a method which evaluates our polynomial in a given x value and return the polynomial value e.g.\nif\n\n$P[x] = 1+2x+3x^2$\n\nwe expect $P[10]=321$\n\nour method will be called `eval`\n\nAn interesting algorithm to implement eval is based on the follwing equivalence:\n\n$P[x] = 1+2x+3x^2 = ((3)x +2)x +1$\n\nwhich suggests an iterative way to calculate our result",
      "metadata": {}
    },
    {
      "cell_type": "code",
      "source": "## your code here",
      "metadata": {
        "trusted": true
      },
      "outputs": [],
      "execution_count": null
    },
    {
      "cell_type": "code",
      "source": "# we are going to create a random test\nimport random\n# first we choose the poltnomial degree\ndegree = random.randint(2,5)\n# then we create coefficients\ncoeff =  tuple(random.randint(-5,5) for _ in range(degree + 1))\n# now let's create our polynomial\np = Poly(coeff)\n# let's select the x\nx = random.randint(1,10)\n# this is a very inefficient algorithm compared to what we\n# suggested\nexpected = 0\nfor i,c in enumerate(coeff):\n    expected += c * (x ** i)\n# here is the test\nresult = p.eval(x)\nif result == expected:\n    print(\"test passed!\")\nelse:\n    print(f\"test failed: expected {expected}, but {result} returned\")",
      "metadata": {
        "trusted": true
      },
      "outputs": [],
      "execution_count": null
    },
    {
      "cell_type": "markdown",
      "source": "## Object getters (and setters)\nthe decorator\n```python\n@property\n```\nis useful to create \"read only\" attributes from getter methods\n\nA more advanced usage of **property** as a function within the body allows to execute code when an attribute is set or deleted\n\nIn this section you will add a getter method called `coeff` which does return the polynomial coefficients as a tuple, and another one called `degree` which returns the polynomial degree: this can be easily calculated from the length of the coefficient tuple, assuming the highest coefficient is non zero",
      "metadata": {}
    },
    {
      "cell_type": "code",
      "source": "## your code here",
      "metadata": {
        "trusted": true
      },
      "outputs": [],
      "execution_count": null
    },
    {
      "cell_type": "code",
      "source": "degree = random.randint(2,5)\ncoeff =  tuple(random.randint(-5,5) for _ in range(degree + 1))\np = Poly(coeff)\nif (p.coeff == coeff) and (p.degree == degree):\n    print(\"test passed!\")\nelse:\n    print(f\"test failed: expected {coeff} and {degree}, but {p.coeff} and {p.degree} returned\")",
      "metadata": {
        "trusted": true
      },
      "outputs": [],
      "execution_count": null
    },
    {
      "cell_type": "markdown",
      "source": "## Override operators\nOperator override is an amazing polymorphism example.\n\nWe are going to implement some of them which comes useful to understand many python details\n\n### Equality\nLet's start with one of the most useful for next tests: equality.\nThe \n```python\ndef __eq__(self,other):\n    ...\n``` \nmethod accepts one value in addition to the usual **self** reference.\n\nImplement it like this:\n- first check that `type(other)` is of the same type of `Poly`\n- then use the `.coeff` attribute to check that polynomial coefficients are equal",
      "metadata": {}
    },
    {
      "cell_type": "code",
      "source": "## your code here",
      "metadata": {
        "trusted": true
      },
      "outputs": [],
      "execution_count": null
    },
    {
      "cell_type": "code",
      "source": "degree = random.randint(2,5)\ncoeff =  tuple(random.randint(-5,5) for _ in range(degree + 1))\np1 = Poly(coeff)\np2 = Poly(coeff)\ncoeff2 =  tuple(random.randint(-5,5) for _ in range(degree + 2))\np3 = Poly(coeff2)\nif (p1 == p2) and (p1 != p3):\n    print(\"test passed!\")\nelse:\n    print(\"test failed\")",
      "metadata": {
        "trusted": true
      },
      "outputs": [],
      "execution_count": null
    },
    {
      "cell_type": "markdown",
      "source": "### Addition\nAs a second example you will create the polynomial sum.\n\nThis is realized by creating the following method \n```python\ndef __add__(self, other):\n    ...\n```\nit is enough to sum up all coefficient until the lowest grade polynomial and copy others",
      "metadata": {}
    },
    {
      "cell_type": "code",
      "source": "## your code here",
      "metadata": {
        "trusted": true
      },
      "outputs": [],
      "execution_count": null
    },
    {
      "cell_type": "code",
      "source": "",
      "metadata": {
        "trusted": true
      },
      "outputs": [],
      "execution_count": null
    }
  ]
}